{
 "cells": [
  {
   "cell_type": "markdown",
   "metadata": {},
   "source": [
    "#Requirements\n",
    "Pillow\n",
    "selenium\n",
    "requests"
   ]
  },
  {
   "cell_type": "code",
   "execution_count": 23,
   "metadata": {},
   "outputs": [],
   "source": [
    "import selenium\n",
    "import time\n",
    "import io\n",
    "from selenium import webdriver\n",
    "from selenium.webdriver.chrome.options import Options\n",
    "from selenium.webdriver.chrome.service import Service\n",
    "from selenium.webdriver.common.by import By\n",
    "import requests\n",
    "from PIL import Image\n",
    "import matplotlib.pyplot as plt\n",
    "import matplotlib.image as mpimg"
   ]
  },
  {
   "cell_type": "code",
   "execution_count": 108,
   "metadata": {},
   "outputs": [],
   "source": [
    "wd = webdriver.Chrome()\n"
   ]
  },
  {
   "cell_type": "code",
   "execution_count": 109,
   "metadata": {},
   "outputs": [],
   "source": [
    "wd.get(\"https://images.google.com/\")"
   ]
  },
  {
   "cell_type": "code",
   "execution_count": 46,
   "metadata": {},
   "outputs": [],
   "source": [
    "search_url = \"https://upload.wikimedia.org/wikipedia/commons/thumb/c/c1/Team_Korea_Russia_WorldCup_02_%28cropped%29.png/640px-Team_Korea_Russia_WorldCup_02_%28cropped%29.png\"\n",
    "#search_url = \"https://www.google.com/search?q=son+heung+min&sca_esv=37563e55355f6dda&sca_upv=1&source=hp&biw=1280&bih=580&ei=j2PTZtCmBb3Xi-gP-aeBEA&iflsig=AL9hbdgAAAAAZtNxn18OyyYMv8cJizK4LoG0lFO6e_oX&oq=son+he&gs_lp=EgNpbWciBnNvbiBoZSoCCAAyCxAAGIAEGLEDGIMBMgUQABiABDIFEAAYgAQyBRAAGIAEMgUQABiABDIFEAAYgAQyBRAAGIAEMgUQABiABDIFEAAYgAQyBRAAGIAESOQgUO4EWOIZcAZ4AJABAJgBAKABAKoBALgBA8gBAPgBAYoCC2d3cy13aXotaW1nmAIGoAIYqAIAwgIEEAAYA8ICCBAAGIAEGLEDwgIOEAAYgAQYsQMYgwEYigWYAwGSBwE2oAcA&sclient=img&udm=2\"\n",
    "wd.get(search_url)"
   ]
  },
  {
   "cell_type": "code",
   "execution_count": 126,
   "metadata": {},
   "outputs": [],
   "source": [
    "def scrape_images(wd,delay,max_images):\n",
    "    def scroll_down(wd):\n",
    "        wd.execute_script(\"windows.scrollTo(0,document.body.scrollHeight);\")\n",
    "        time.sleep(1)\n",
    "    url = \"https://www.google.com/search?sca_esv=db73fa7fbeeadfbb&sca_upv=1&rlz=1C1CHBF_deDE1082DE1083&q=kai+havertz&udm=2&fbs=AEQNm0A6bwEop21ehxKWq5cj-cHa02QUie7apaStVTrDAEoT1KC8RoCil8tGAcNCxzRkvcnGwqyGuTD7X18A_UTKd0_CELfTzO-ikZ95qZ2gBUQP1uyQ-pZ_Zw5KqTGBFqE6bltnqKUQNGWnYfdmillxbjYIVPk4_2RXlUx27uc0EROUT1MM3kg&sa=X&ved=2ahUKEwivgZbUn6CIAxV0zgIHHc5FK58QtKgLegQIDRAB&biw=1280&bih=580&dpr=1.5\"\n",
    "    wd.get(url)\n",
    "\n",
    "    image_urls = set()\n",
    "\n",
    "    while len(image_urls) <max_images:\n",
    "        #scroll_down(wd)\n",
    "        time.sleep(2)\n",
    "        thumbnails = wd.find_elements(By.CLASS_NAME,\"H8Rx8c\")\n",
    "        print(\"found\",len(thumbnails))\n",
    "        for img in thumbnails[0:100]:\n",
    "            print(img)\n",
    "            try:\n",
    "                img.click()\n",
    "                time.sleep(2)\n",
    "            except Exception as e:\n",
    "                print(\"Click Failed\",e)\n",
    "\n",
    "            images = wd.find_elements(By.CSS_SELECTOR,\"img.sFlh5c.FyHeAf.iPVvYb\")\n",
    "            for image in images:\n",
    "                if image.get_attribute('src') and 'http' in image.get_attribute('src'):\n",
    "                    image_urls.add(image.get_attribute('src'))\n",
    "\n",
    "        return image_urls"
   ]
  },
  {
   "cell_type": "code",
   "execution_count": 127,
   "metadata": {},
   "outputs": [],
   "source": [
    "def download_image(download_path,url,file_name):\n",
    "    try:\n",
    "        image_content = requests.get(url).content\n",
    "        print(image_content)\n",
    "        #Storing the resulting content in computer's memory\n",
    "        image_file = io.BytesIO(image_content)\n",
    "        print(\"writing to memory success\")\n",
    "        #Opening the image with Pillow \n",
    "        try:\n",
    "            image = Image.open(image_file)\n",
    "            #image.show()  # This opens the image using the default image viewer\n",
    "            print(\"Image opened successfully:\", image)\n",
    "        except IOError as e:\n",
    "            print(f\"Error opening image: {e}\")\n",
    "        file_path = download_path + file_name\n",
    "        print(file_path)\n",
    "\n",
    "        with open(file_path,\"wb\") as f: #In writebytes mode\n",
    "             image.save(f,\"JPEG\")\n",
    "        print(\"success\")\n",
    "    except Exception as e:\n",
    "         print(\"Failed Saving\", e)"
   ]
  },
  {
   "cell_type": "code",
   "execution_count": null,
   "metadata": {},
   "outputs": [],
   "source": [
    "img_src = scrape_images(wd,1,75)\n",
    "for i, src in enumerate(img_src):\n",
    "    if \".png\" in src:\n",
    "        print('its a png image')\n",
    "        download_image(\"D:\\\\Study\\\\Projects\\\\ImageClassification\\\\PremierLeaguePlayersClassifier\\\\Images\\\\Havertz\\\\\",src,\"image\"+str(i)+\".png\")\n",
    "    else:\n",
    "        download_image(\"D:\\\\Study\\\\Projects\\\\ImageClassification\\\\PremierLeaguePlayersClassifier\\\\Images\\\\Havertz\\\\\",src,\"image\"+str(i)+\".jpg\")"
   ]
  },
  {
   "cell_type": "code",
   "execution_count": 41,
   "metadata": {},
   "outputs": [],
   "source": [
    "wd.quit()"
   ]
  }
 ],
 "metadata": {
  "kernelspec": {
   "display_name": "Python 3",
   "language": "python",
   "name": "python3"
  },
  "language_info": {
   "codemirror_mode": {
    "name": "ipython",
    "version": 3
   },
   "file_extension": ".py",
   "mimetype": "text/x-python",
   "name": "python",
   "nbconvert_exporter": "python",
   "pygments_lexer": "ipython3",
   "version": "3.12.3"
  }
 },
 "nbformat": 4,
 "nbformat_minor": 2
}
